{
 "cells": [
  {
   "cell_type": "markdown",
   "id": "ce4744cb-b783-4dc2-8c15-9b436660aea1",
   "metadata": {},
   "source": [
    "# scratch教学大纲"
   ]
  },
  {
   "cell_type": "markdown",
   "id": "db62027b-89e9-4455-a0fc-5eb052be635c",
   "metadata": {},
   "source": [
    "## 一只小猫"
   ]
  },
  {
   "cell_type": "markdown",
   "id": "2af6ae56-0321-4aff-867b-ccd1c8d79ad3",
   "metadata": {},
   "source": [
    "教学目标\n",
    "\n",
    "1.认识scratch软件\n",
    "\n",
    "2.初步尝试角色的选择和删除操作\n",
    "\n",
    "3.学会将指令移动到编码区\n",
    "\n",
    "5.掌握程序启动的方法\n",
    "\n",
    "6.了解每个角色需要设定相应的脚本，才能在舞台中运动\n",
    "\n",
    "7.熟悉说话、发出声音、移动指令的使用"
   ]
  },
  {
   "cell_type": "markdown",
   "id": "ca531b2f-0102-4160-81a6-3087f5312895",
   "metadata": {},
   "source": []
  },
  {
   "cell_type": "markdown",
   "id": "adf408f7-60b9-433e-8071-9090d504e402",
   "metadata": {},
   "source": []
  },
  {
   "cell_type": "code",
   "execution_count": null,
   "id": "a64eec58-346e-47e4-b5cc-34c8af2d2069",
   "metadata": {},
   "outputs": [],
   "source": []
  }
 ],
 "metadata": {
  "kernelspec": {
   "display_name": "Python 3",
   "language": "python",
   "name": "python3"
  },
  "language_info": {
   "codemirror_mode": {
    "name": "ipython",
    "version": 3
   },
   "file_extension": ".py",
   "mimetype": "text/x-python",
   "name": "python",
   "nbconvert_exporter": "python",
   "pygments_lexer": "ipython3",
   "version": "3.8.8"
  },
  "toc-autonumbering": true
 },
 "nbformat": 4,
 "nbformat_minor": 5
}

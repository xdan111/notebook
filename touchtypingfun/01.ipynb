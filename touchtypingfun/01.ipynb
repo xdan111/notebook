{
 "cells": [
  {
   "cell_type": "markdown",
   "id": "01285637-dd06-41b6-9639-84ebd9fa4dd9",
   "metadata": {},
   "source": [
    "### 编程就是告诉计算机接受某种输入，然后照程序说的做。怎么让他接受输入？鼠标点按钮！对，按钮，我们做个按钮！"
   ]
  },
  {
   "cell_type": "code",
   "execution_count": null,
   "id": "5716b3be-16bc-41e5-b6a6-2bb1eafe4c83",
   "metadata": {},
   "outputs": [],
   "source": []
  }
 ],
 "metadata": {
  "kernelspec": {
   "display_name": "Python 3",
   "language": "python",
   "name": "python3"
  },
  "language_info": {
   "codemirror_mode": {
    "name": "ipython",
    "version": 3
   },
   "file_extension": ".py",
   "mimetype": "text/x-python",
   "name": "python",
   "nbconvert_exporter": "python",
   "pygments_lexer": "ipython3",
   "version": "3.8.8"
  }
 },
 "nbformat": 4,
 "nbformat_minor": 5
}

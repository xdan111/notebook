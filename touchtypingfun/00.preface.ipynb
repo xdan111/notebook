{
 "cells": [
  {
   "cell_type": "markdown",
   "id": "d004f8b1-a2c6-4cb3-8034-51b28f9920af",
   "metadata": {},
   "source": [
    "# 前言"
   ]
  },
  {
   "cell_type": "markdown",
   "id": "bcaad0f9-d51d-470f-853d-d43d30fd269a",
   "metadata": {},
   "source": [
    "### 这个教程的特点？一共就五个，但核心思想是：及时获得学习结果正反馈"
   ]
  },
  {
   "cell_type": "markdown",
   "id": "a48f4c6f-4afc-4c4c-8d9a-c97c40583d68",
   "metadata": {},
   "source": [
    "#### 特点一    从第一章开始，就能做出可以运行的真东西"
   ]
  },
  {
   "cell_type": "markdown",
   "id": "1d452b50-7ea4-4754-9403-0c3dd7a33a70",
   "metadata": {},
   "source": [
    "> 而不是外面那些平淡无奇的编程教学：先教“Hello World”，然后好几个章节都在教基础知识而出不来成果，劝退多少新人；"
   ]
  },
  {
   "cell_type": "markdown",
   "id": "c7c64049-a524-4a30-a5cb-8d915aaddcc3",
   "metadata": {},
   "source": [
    "### 如果非要“Hello World”一次才算编程教学的开始，行啊，我们现在就完成这个仪式，一个不够，我们来三个："
   ]
  },
  {
   "cell_type": "code",
   "execution_count": 2,
   "id": "a180a854-aa8f-45b9-952e-9b17795a522a",
   "metadata": {
    "collapsed": true,
    "jupyter": {
     "outputs_hidden": true
    },
    "tags": []
   },
   "outputs": [
    {
     "ename": "SyntaxError",
     "evalue": "invalid syntax (<ipython-input-2-bef7dd9ae245>, line 1)",
     "output_type": "error",
     "traceback": [
      "\u001b[1;36m  File \u001b[1;32m\"<ipython-input-2-bef7dd9ae245>\"\u001b[1;36m, line \u001b[1;32m1\u001b[0m\n\u001b[1;33m    <!DOCTYPE html>\u001b[0m\n\u001b[1;37m    ^\u001b[0m\n\u001b[1;31mSyntaxError\u001b[0m\u001b[1;31m:\u001b[0m invalid syntax\n"
     ]
    }
   ],
   "source": [
    "<!DOCTYPE html>\n",
    "<html>\n",
    "\t<head>\n",
    "\t\t<meta charset=\"utf-8\">\n",
    "\t\t<title>Hello World 1</title>\n",
    "\t</head>\n",
    "\t<body>\n",
    "\t\t<p>Hello World 2</p>\n",
    "\t\t<script>\n",
    "\t\talert('Hello World 3');\n",
    "\t\t</script>\n",
    "\t</body>\n",
    "</html>"
   ]
  },
  {
   "cell_type": "markdown",
   "id": "f737c334-42ce-4b9e-a77e-094590f3ff0f",
   "metadata": {},
   "source": [
    "请复制上面这段代码，桌面或随便哪里新建一个文本文件，粘贴这段代码。保存。关闭。\n",
    "然后将这个文本文件的后缀名\".txt\"，更改为\".html\"。双击打开或右键-在浏览器打开。\n",
    "到这里应该成功运行了刚刚的网页，恭喜，礼成！\n",
    "\n",
    "刚刚的文件是不是叫做“新建文本文件.html\"，请改名叫“index.html“，这个以后还能用。\n",
    "\n",
    "如果是苹果电脑请打开苹果自带的“文本编辑“软件，在顶部菜单栏点击“格式”展开菜单，再点击“制作纯文本”。这个时候“文本编辑”会切换到纯文本编辑模式，然后将代码粘贴进去。保存到桌面或者你喜欢的文件夹里。苹果电脑保存的时候就可以要取名字，取名为："
   ]
  },
  {
   "cell_type": "markdown",
   "id": "55ea7230-cf1c-41a4-8e1d-497bb9557589",
   "metadata": {},
   "source": [
    "> index.html\n",
    "\n",
    "接下来，去你保存了这个文件的文件夹里双击打开，运行成功，恭喜，礼成！\n",
    "\n",
    "刚刚的文件先留着，我们以后还用得到。"
   ]
  },
  {
   "cell_type": "markdown",
   "id": "dc42ecab-c47a-4d77-a642-ec21824cafa6",
   "metadata": {},
   "source": [
    "继续说这个教程的特点"
   ]
  },
  {
   "cell_type": "markdown",
   "id": "7eba5f4a-8bd2-4890-a8c6-fdabded3fa8c",
   "metadata": {},
   "source": [
    "#### 特点二 每一个小节学一个编程知识点，并且立刻运用这个知识点来做有用的小玩意，不会因为学到基础知识无法得到应用，感到枯燥。即是说，本教程正反馈及时，学起来有成就感。\n",
    "\n",
    "#### 特点三 本教程完全针对计算机小白读者，甚至会假设读者连键盘上的一些符号在哪都找不到，因此特别在此推出打字练习小游戏：\n",
    "\n",
    "> <a>https://play.hawken.im/typing</a>\n",
    "\n",
    "这个小游戏会最终会教会读者怎么不看键盘打字，我们称为“盲打”，这个技能对编程或者写文章或者操作其他软件（因为会用到快捷键）都很有帮助。"
   ]
  },
  {
   "cell_type": "markdown",
   "id": "5bc9af2a-8830-426e-ae61-d505b7da37f3",
   "metadata": {},
   "source": [
    "#### 特点四 学完本教程，就会完成第3点中分享的打字练习小游戏。本书最后一章我会提供英语词库，把这个打字小游戏转变成背单词小游戏。所以学完本教程你甚至可以用你自己的学习成果来背英语单词！\n",
    "\n",
    "#### 特点五 有没有发现，到现在本教程都没有提到我们是要学 JavaScript（JS） 这种编程语言？我这样处理，是想让读者大人们理解：重要的是编程这门技能，编程语言并不重要。选择 JS 这门语言的唯一理由就是，这个语言写出来的程序能够被各种流行的浏览器直接解读，写出来的东西能够直接呈现出结果。非常有快速正反馈作用，我认为这是非常适合初学者的一门语言。"
   ]
  },
  {
   "cell_type": "markdown",
   "id": "ad5498f9-a943-44ad-b0b0-aef7c533ef86",
   "metadata": {},
   "source": [
    "### 让我们开始"
   ]
  }
 ],
 "metadata": {
  "kernelspec": {
   "display_name": "Python 3",
   "language": "python",
   "name": "python3"
  },
  "language_info": {
   "codemirror_mode": {
    "name": "ipython",
    "version": 3
   },
   "file_extension": ".py",
   "mimetype": "text/x-python",
   "name": "python",
   "nbconvert_exporter": "python",
   "pygments_lexer": "ipython3",
   "version": "3.8.8"
  }
 },
 "nbformat": 4,
 "nbformat_minor": 5
}

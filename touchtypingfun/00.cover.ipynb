{
 "cells": [
  {
   "cell_type": "markdown",
   "id": "fc87d38c-8e91-46df-b4d5-dda3a6ae7c1b",
   "metadata": {},
   "source": [
    "# 从零开始（从练习盲打开始）的野生程序员成长日记\n",
    "\n",
    "## JavaScript 超实在超实际的实战教程每章都出成果\n",
    "\n",
    "### 全书只有XXX多字：学完甚至不超过一星期\n"
   ]
  },
  {
   "cell_type": "markdown",
   "id": "7514a459-e92b-4643-946a-3950499fd892",
   "metadata": {},
   "source": [
    "> 特别声明：本教程采用敏捷学习思维规划学习路线。让读者可以很快见识到“真家伙”。关于敏捷学习方法可以见这篇文章："
   ]
  },
  {
   "cell_type": "markdown",
   "id": "9dee0c68-e612-48ad-8ad5-c3926b8ee923",
   "metadata": {},
   "source": [
    "> 特别声明：本教程绝不会出纸质版，所以本教程大量重复地引用同样的代码并不会浪费太多资源。这样做的目的主要是为了方便读者只要复制粘贴就可以一步一步地完成我们的学习目标，不需要把页面翻前翻后的。这是作者完全放弃纸质书后对电子书优势的充分利用。（当然不是为了水字数。括符笑）"
   ]
  },
  {
   "cell_type": "markdown",
   "id": "9e81258f-917f-4d7c-b607-de58d668f3c9",
   "metadata": {},
   "source": [
    "### 作者：赵浩坤"
   ]
  }
 ],
 "metadata": {
  "kernelspec": {
   "display_name": "Python 3",
   "language": "python",
   "name": "python3"
  },
  "language_info": {
   "codemirror_mode": {
    "name": "ipython",
    "version": 3
   },
   "file_extension": ".py",
   "mimetype": "text/x-python",
   "name": "python",
   "nbconvert_exporter": "python",
   "pygments_lexer": "ipython3",
   "version": "3.8.8"
  },
  "toc-autonumbering": false,
  "toc-showcode": true,
  "toc-showmarkdowntxt": true
 },
 "nbformat": 4,
 "nbformat_minor": 5
}
